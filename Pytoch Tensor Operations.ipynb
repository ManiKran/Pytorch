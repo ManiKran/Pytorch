{
  "nbformat": 4,
  "nbformat_minor": 0,
  "metadata": {
    "colab": {
      "name": "pytorch practice.ipynb",
      "provenance": []
    },
    "kernelspec": {
      "name": "python3",
      "display_name": "Python 3"
    },
    "language_info": {
      "name": "python"
    }
  },
  "cells": [
    {
      "cell_type": "code",
      "execution_count": 12,
      "metadata": {
        "id": "0lNXPp4zKNu0"
      },
      "outputs": [],
      "source": [
        "import torch"
      ]
    },
    {
      "cell_type": "code",
      "source": [
        "device = \"cuda\" if torch.cuda.is_available() else \"cpu\""
      ],
      "metadata": {
        "id": "uk16WSKyLrgP"
      },
      "execution_count": 13,
      "outputs": []
    },
    {
      "cell_type": "code",
      "source": [
        "my_tensor=torch.tensor([[1,2,3],[4,5,6],[8,9,10]], dtype=torch.float32, device=device, requires_grad=True)\n",
        "print(my_tensor)"
      ],
      "metadata": {
        "colab": {
          "base_uri": "https://localhost:8080/"
        },
        "id": "hInB6rgJKTUs",
        "outputId": "c29b80e7-d7e0-47f4-9843-d2107a79dc54"
      },
      "execution_count": 14,
      "outputs": [
        {
          "output_type": "stream",
          "name": "stdout",
          "text": [
            "tensor([[ 1.,  2.,  3.],\n",
            "        [ 4.,  5.,  6.],\n",
            "        [ 8.,  9., 10.]], requires_grad=True)\n"
          ]
        }
      ]
    },
    {
      "cell_type": "code",
      "source": [
        "print(my_tensor.device)\n",
        "print(my_tensor.shape)"
      ],
      "metadata": {
        "colab": {
          "base_uri": "https://localhost:8080/"
        },
        "id": "1jBCnlbBKfaK",
        "outputId": "1cdc0bcc-9bc4-4c13-c429-55b0aaa3fe35"
      },
      "execution_count": 16,
      "outputs": [
        {
          "output_type": "stream",
          "name": "stdout",
          "text": [
            "cpu\n",
            "torch.Size([3, 3])\n"
          ]
        }
      ]
    },
    {
      "cell_type": "code",
      "source": [
        "x=torch.empty(size=(3,3))\n",
        "print(x) "
      ],
      "metadata": {
        "colab": {
          "base_uri": "https://localhost:8080/"
        },
        "id": "y-GxsKzKMTKi",
        "outputId": "120a5097-c08f-4312-b7c0-dc6bd48223bb"
      },
      "execution_count": 17,
      "outputs": [
        {
          "output_type": "stream",
          "name": "stdout",
          "text": [
            "tensor([[-3.4635e+19,  3.0830e-41,  3.3631e-44],\n",
            "        [ 0.0000e+00,         nan,  6.4460e-44],\n",
            "        [ 1.1578e+27,  1.1362e+30,  7.1547e+22]])\n"
          ]
        }
      ]
    },
    {
      "cell_type": "code",
      "source": [
        "  x=torch.zeros(size=(3,3))\n",
        "  print(x)"
      ],
      "metadata": {
        "colab": {
          "base_uri": "https://localhost:8080/"
        },
        "id": "RxlYhGWGMzKk",
        "outputId": "4dc7747c-8799-44cd-906e-4ce8c1c2deb0"
      },
      "execution_count": 18,
      "outputs": [
        {
          "output_type": "stream",
          "name": "stdout",
          "text": [
            "tensor([[0., 0., 0.],\n",
            "        [0., 0., 0.],\n",
            "        [0., 0., 0.]])\n"
          ]
        }
      ]
    },
    {
      "cell_type": "code",
      "source": [
        "x=torch.rand((3,3))\n",
        "print(x)"
      ],
      "metadata": {
        "colab": {
          "base_uri": "https://localhost:8080/"
        },
        "id": "lNrimvWJM5GU",
        "outputId": "71e55459-c68b-45e4-b47b-d67aa01845a6"
      },
      "execution_count": 20,
      "outputs": [
        {
          "output_type": "stream",
          "name": "stdout",
          "text": [
            "tensor([[0.4355, 0.3133, 0.1818],\n",
            "        [0.8556, 0.7539, 0.5352],\n",
            "        [0.6846, 0.8841, 0.9556]])\n"
          ]
        }
      ]
    },
    {
      "cell_type": "code",
      "source": [
        "x=torch.ones((3,3))\n",
        "print(x)"
      ],
      "metadata": {
        "colab": {
          "base_uri": "https://localhost:8080/"
        },
        "id": "OzVWeKiZNFRG",
        "outputId": "48435c97-7434-40cf-d60f-ed84054787fc"
      },
      "execution_count": 22,
      "outputs": [
        {
          "output_type": "stream",
          "name": "stdout",
          "text": [
            "tensor([[1., 1., 1.],\n",
            "        [1., 1., 1.],\n",
            "        [1., 1., 1.]])\n"
          ]
        }
      ]
    },
    {
      "cell_type": "code",
      "source": [
        "x=torch.eye(3,3)\n",
        "print(x)"
      ],
      "metadata": {
        "colab": {
          "base_uri": "https://localhost:8080/"
        },
        "id": "o7ER91VsNMW6",
        "outputId": "6b6853dc-4c4c-4800-c87d-f1cb7ac462a3"
      },
      "execution_count": 24,
      "outputs": [
        {
          "output_type": "stream",
          "name": "stdout",
          "text": [
            "tensor([[1., 0., 0.],\n",
            "        [0., 1., 0.],\n",
            "        [0., 0., 1.]])\n"
          ]
        }
      ]
    },
    {
      "cell_type": "code",
      "source": [
        "x=torch.arange(start=0, end=5, step=1)\n",
        "print(x)"
      ],
      "metadata": {
        "colab": {
          "base_uri": "https://localhost:8080/"
        },
        "id": "_f64r5MUNRkm",
        "outputId": "00accba4-a1e5-44c4-ed34-2943028ee872"
      },
      "execution_count": 33,
      "outputs": [
        {
          "output_type": "stream",
          "name": "stdout",
          "text": [
            "tensor([0, 1, 2, 3, 4])\n"
          ]
        }
      ]
    },
    {
      "cell_type": "code",
      "source": [
        "x=torch.linspace(start=0.1, end=1, steps=4)\n",
        "print(x)"
      ],
      "metadata": {
        "colab": {
          "base_uri": "https://localhost:8080/"
        },
        "id": "4bsIpA2yNcX6",
        "outputId": "54bdcf4f-5b6b-4281-d73e-3d68eaafe71d"
      },
      "execution_count": 31,
      "outputs": [
        {
          "output_type": "stream",
          "name": "stdout",
          "text": [
            "tensor([0.1000, 0.4000, 0.7000, 1.0000])\n"
          ]
        }
      ]
    },
    {
      "cell_type": "code",
      "source": [
        "x=torch.empty((3,3)).normal_(mean=0, std=1)\n",
        "print(x)"
      ],
      "metadata": {
        "colab": {
          "base_uri": "https://localhost:8080/"
        },
        "id": "NC9zHn8ZNooH",
        "outputId": "1f817a06-7f0b-47f3-c1d4-bc8ca76f9af6"
      },
      "execution_count": 36,
      "outputs": [
        {
          "output_type": "stream",
          "name": "stdout",
          "text": [
            "tensor([[ 0.7287, -0.5879,  1.0970],\n",
            "        [ 2.7379, -1.6626,  0.8312],\n",
            "        [-0.4270,  0.4605, -0.6698]])\n"
          ]
        }
      ]
    },
    {
      "cell_type": "code",
      "source": [
        "x=torch.empty((1,5)).uniform_(0,1)\n",
        "print(x)"
      ],
      "metadata": {
        "colab": {
          "base_uri": "https://localhost:8080/"
        },
        "id": "7o7rIocWOoK_",
        "outputId": "b80b5933-fa40-4181-dcdb-9f03a4a631dd"
      },
      "execution_count": 38,
      "outputs": [
        {
          "output_type": "stream",
          "name": "stdout",
          "text": [
            "tensor([[0.9819, 0.7839, 0.5423, 0.6169, 0.1507]])\n"
          ]
        }
      ]
    },
    {
      "cell_type": "code",
      "source": [
        "x=torch.diag(torch.ones(3))\n",
        "print(x)"
      ],
      "metadata": {
        "colab": {
          "base_uri": "https://localhost:8080/"
        },
        "id": "0qFCd5ZBO_rv",
        "outputId": "95ca0c42-0c97-4710-c4af-9965b814196a"
      },
      "execution_count": 39,
      "outputs": [
        {
          "output_type": "stream",
          "name": "stdout",
          "text": [
            "tensor([[1., 0., 0.],\n",
            "        [0., 1., 0.],\n",
            "        [0., 0., 1.]])\n"
          ]
        }
      ]
    },
    {
      "cell_type": "markdown",
      "source": [
        "How to initialize and convert tensors to other types"
      ],
      "metadata": {
        "id": "0D6UOTT3PdYO"
      }
    },
    {
      "cell_type": "code",
      "source": [
        "tensor=torch.arange(4)\n",
        "print(tensor.bool())"
      ],
      "metadata": {
        "colab": {
          "base_uri": "https://localhost:8080/"
        },
        "id": "dQArxUjSPh8w",
        "outputId": "5d644c63-04b2-464e-fe1e-c6e59ed309dc"
      },
      "execution_count": 41,
      "outputs": [
        {
          "output_type": "stream",
          "name": "stdout",
          "text": [
            "tensor([False,  True,  True,  True])\n"
          ]
        }
      ]
    },
    {
      "cell_type": "code",
      "source": [
        "print(tensor.short())\n",
        "print(tensor.long())\n",
        "print(tensor.half())\n",
        "print(tensor.float())\n",
        "print(tensor.double())"
      ],
      "metadata": {
        "colab": {
          "base_uri": "https://localhost:8080/"
        },
        "id": "uKkg5sFqPsp9",
        "outputId": "f572bf54-ed12-4759-fe04-73c9a503b6b4"
      },
      "execution_count": 46,
      "outputs": [
        {
          "output_type": "stream",
          "name": "stdout",
          "text": [
            "tensor([0, 1, 2, 3], dtype=torch.int16)\n",
            "tensor([0, 1, 2, 3])\n",
            "tensor([0., 1., 2., 3.], dtype=torch.float16)\n",
            "tensor([0., 1., 2., 3.])\n",
            "tensor([0., 1., 2., 3.], dtype=torch.float64)\n"
          ]
        }
      ]
    },
    {
      "cell_type": "code",
      "source": [
        "import numpy as np"
      ],
      "metadata": {
        "id": "sKQr94dJQDIG"
      },
      "execution_count": 47,
      "outputs": []
    },
    {
      "cell_type": "code",
      "source": [
        "np_array=np.zeros((5,5))\n",
        "print(np_array)\n",
        "tensor=torch.from_numpy(np_array)\n",
        "print(tensor)\n",
        "np_array=tensor.numpy()\n",
        "print(np_array)"
      ],
      "metadata": {
        "colab": {
          "base_uri": "https://localhost:8080/"
        },
        "id": "bV22LZrSQeIl",
        "outputId": "fb8859c8-633e-417a-f116-1bea56410f2a"
      },
      "execution_count": 52,
      "outputs": [
        {
          "output_type": "stream",
          "name": "stdout",
          "text": [
            "[[0. 0. 0. 0. 0.]\n",
            " [0. 0. 0. 0. 0.]\n",
            " [0. 0. 0. 0. 0.]\n",
            " [0. 0. 0. 0. 0.]\n",
            " [0. 0. 0. 0. 0.]]\n",
            "tensor([[0., 0., 0., 0., 0.],\n",
            "        [0., 0., 0., 0., 0.],\n",
            "        [0., 0., 0., 0., 0.],\n",
            "        [0., 0., 0., 0., 0.],\n",
            "        [0., 0., 0., 0., 0.]], dtype=torch.float64)\n",
            "[[0. 0. 0. 0. 0.]\n",
            " [0. 0. 0. 0. 0.]\n",
            " [0. 0. 0. 0. 0.]\n",
            " [0. 0. 0. 0. 0.]\n",
            " [0. 0. 0. 0. 0.]]\n"
          ]
        }
      ]
    },
    {
      "cell_type": "markdown",
      "source": [
        "Different Operations on Tensor"
      ],
      "metadata": {
        "id": "52d5nK4cROeO"
      }
    },
    {
      "cell_type": "code",
      "source": [
        "x=torch.tensor([1,2,3])\n",
        "y=torch.tensor([9,8,7])"
      ],
      "metadata": {
        "id": "WJxFoqTpRRwu"
      },
      "execution_count": 53,
      "outputs": []
    },
    {
      "cell_type": "code",
      "source": [
        "z1=torch.empty(3)\n",
        "torch.add(x,y, out=z1)\n",
        "print(z1)"
      ],
      "metadata": {
        "colab": {
          "base_uri": "https://localhost:8080/"
        },
        "id": "p9032KD0UFjV",
        "outputId": "81337bbd-3427-4223-8c49-166dfd857a0e"
      },
      "execution_count": 56,
      "outputs": [
        {
          "output_type": "stream",
          "name": "stdout",
          "text": [
            "tensor([10., 10., 10.])\n"
          ]
        }
      ]
    },
    {
      "cell_type": "code",
      "source": [
        "z2=torch.add(x,y)\n",
        "print(z2)"
      ],
      "metadata": {
        "colab": {
          "base_uri": "https://localhost:8080/"
        },
        "id": "md1ssBhAURjy",
        "outputId": "d3c86ca4-74c0-408e-a164-b3f53e00c724"
      },
      "execution_count": 57,
      "outputs": [
        {
          "output_type": "stream",
          "name": "stdout",
          "text": [
            "tensor([10, 10, 10])\n"
          ]
        }
      ]
    },
    {
      "cell_type": "code",
      "source": [
        "z=x+y\n",
        "print(x)"
      ],
      "metadata": {
        "colab": {
          "base_uri": "https://localhost:8080/"
        },
        "id": "ieF3S-mgUhoR",
        "outputId": "87b228b2-1bc7-4fdf-abac-83f5999381b3"
      },
      "execution_count": 58,
      "outputs": [
        {
          "output_type": "stream",
          "name": "stdout",
          "text": [
            "tensor([1, 2, 3])\n"
          ]
        }
      ]
    },
    {
      "cell_type": "code",
      "source": [
        "z=x-y\n",
        "print(z)"
      ],
      "metadata": {
        "colab": {
          "base_uri": "https://localhost:8080/"
        },
        "id": "M6aUqSAZUkd9",
        "outputId": "3b58bde7-b5e9-41ef-e03f-565dc4ce0d0b"
      },
      "execution_count": 60,
      "outputs": [
        {
          "output_type": "stream",
          "name": "stdout",
          "text": [
            "tensor([-8, -6, -4])\n"
          ]
        }
      ]
    },
    {
      "cell_type": "code",
      "source": [
        "z=x/y\n",
        "print(z)"
      ],
      "metadata": {
        "colab": {
          "base_uri": "https://localhost:8080/"
        },
        "id": "5brDr-hDUo0Y",
        "outputId": "9837d420-fa38-4621-a279-1dbe2b0f1b9e"
      },
      "execution_count": 61,
      "outputs": [
        {
          "output_type": "stream",
          "name": "stdout",
          "text": [
            "tensor([0.1111, 0.2500, 0.4286])\n"
          ]
        }
      ]
    },
    {
      "cell_type": "code",
      "source": [
        "z=torch.true_divide(x,y)\n",
        "print(z)"
      ],
      "metadata": {
        "colab": {
          "base_uri": "https://localhost:8080/"
        },
        "id": "PBTToEU1U0X2",
        "outputId": "3480e90b-54ed-4931-babe-d135d5b20ac3"
      },
      "execution_count": 62,
      "outputs": [
        {
          "output_type": "stream",
          "name": "stdout",
          "text": [
            "tensor([0.1111, 0.2500, 0.4286])\n"
          ]
        }
      ]
    },
    {
      "cell_type": "code",
      "source": [
        "t=torch.zeros(3)\n",
        "print(t)"
      ],
      "metadata": {
        "colab": {
          "base_uri": "https://localhost:8080/"
        },
        "id": "CtXhPnCbVCNU",
        "outputId": "cf935571-ccb3-41b0-b981-9563ce69d5cf"
      },
      "execution_count": 63,
      "outputs": [
        {
          "output_type": "stream",
          "name": "stdout",
          "text": [
            "tensor([0., 0., 0.])\n"
          ]
        }
      ]
    },
    {
      "cell_type": "code",
      "source": [
        "t.add_(x)"
      ],
      "metadata": {
        "colab": {
          "base_uri": "https://localhost:8080/"
        },
        "id": "1fyw7-vcVJhz",
        "outputId": "8174213c-3f1c-4f49-bf8b-3e26819d7f73"
      },
      "execution_count": 64,
      "outputs": [
        {
          "output_type": "execute_result",
          "data": {
            "text/plain": [
              "tensor([1., 2., 3.])"
            ]
          },
          "metadata": {},
          "execution_count": 64
        }
      ]
    },
    {
      "cell_type": "code",
      "source": [
        "z=x.pow(2)\n",
        "print(z)"
      ],
      "metadata": {
        "colab": {
          "base_uri": "https://localhost:8080/"
        },
        "id": "jVapxtw0VXq3",
        "outputId": "f820a7e1-78c8-43b6-e849-34be4643c3b1"
      },
      "execution_count": 66,
      "outputs": [
        {
          "output_type": "stream",
          "name": "stdout",
          "text": [
            "tensor([1, 4, 9])\n"
          ]
        }
      ]
    },
    {
      "cell_type": "code",
      "source": [
        "z=x>0\n",
        "print(z)"
      ],
      "metadata": {
        "colab": {
          "base_uri": "https://localhost:8080/"
        },
        "id": "rxZbcCGqW80b",
        "outputId": "3415ccc1-1ddc-482d-bae6-c22c813f1d35"
      },
      "execution_count": 68,
      "outputs": [
        {
          "output_type": "stream",
          "name": "stdout",
          "text": [
            "tensor([True, True, True])\n"
          ]
        }
      ]
    },
    {
      "cell_type": "code",
      "source": [
        "x1=torch.rand((2,5))\n",
        "x2=torch.rand((5,3))\n",
        "x3=torch.mm(x1,x2)\n",
        "print(x3)"
      ],
      "metadata": {
        "colab": {
          "base_uri": "https://localhost:8080/"
        },
        "id": "pGAhB_bnXBIH",
        "outputId": "ec139c4c-0fb2-46fd-81ff-aa4c675249ee"
      },
      "execution_count": 70,
      "outputs": [
        {
          "output_type": "stream",
          "name": "stdout",
          "text": [
            "tensor([[0.7145, 1.2519, 0.6436],\n",
            "        [0.9516, 1.3488, 0.6800]])\n"
          ]
        }
      ]
    },
    {
      "cell_type": "code",
      "source": [
        "x3=x1.mm(x2)\n",
        "print(x3)"
      ],
      "metadata": {
        "colab": {
          "base_uri": "https://localhost:8080/"
        },
        "id": "44DRpnzBXNri",
        "outputId": "61190e7f-0d13-4b3f-ed77-cbce4b8711d4"
      },
      "execution_count": 72,
      "outputs": [
        {
          "output_type": "stream",
          "name": "stdout",
          "text": [
            "tensor([[0.7145, 1.2519, 0.6436],\n",
            "        [0.9516, 1.3488, 0.6800]])\n"
          ]
        }
      ]
    },
    {
      "cell_type": "code",
      "source": [
        "matrix=torch.rand((5,5))\n",
        "print(matrix.matrix_power(3))"
      ],
      "metadata": {
        "colab": {
          "base_uri": "https://localhost:8080/"
        },
        "id": "9HUh2UHFXW8B",
        "outputId": "5a8be9a5-942c-4d26-9a73-36aa120a24fe"
      },
      "execution_count": 75,
      "outputs": [
        {
          "output_type": "stream",
          "name": "stdout",
          "text": [
            "tensor([[6.6894, 7.6726, 7.1761, 7.3764, 4.5685],\n",
            "        [5.1907, 5.6094, 5.5555, 5.8746, 3.5769],\n",
            "        [5.9135, 6.7386, 6.3355, 6.5210, 4.0430],\n",
            "        [4.7281, 5.4158, 4.9708, 4.9960, 3.4470],\n",
            "        [4.0459, 5.2659, 4.5195, 5.0648, 3.0483]])\n"
          ]
        }
      ]
    },
    {
      "cell_type": "code",
      "source": [
        "x=torch.tensor([1,2,3])\n",
        "y=torch.tensor([9,8,7])\n",
        "print(torch.dot(x,y))"
      ],
      "metadata": {
        "colab": {
          "base_uri": "https://localhost:8080/"
        },
        "id": "IxPQ5sp_YG_E",
        "outputId": "ef870347-caa5-46ad-9da9-4ded136ee051"
      },
      "execution_count": 76,
      "outputs": [
        {
          "output_type": "stream",
          "name": "stdout",
          "text": [
            "tensor(46)\n"
          ]
        }
      ]
    },
    {
      "cell_type": "code",
      "source": [
        "batch=32\n",
        "n=10\n",
        "m=20\n",
        "p=30\n",
        "\n",
        "t1=torch.rand((batch, n, m))\n",
        "t2=torch.rand((batch, m ,p))\n",
        "\n",
        "out_bmm= torch.bmm(t1,t2)"
      ],
      "metadata": {
        "id": "957NOlLSY435"
      },
      "execution_count": 82,
      "outputs": []
    },
    {
      "cell_type": "code",
      "source": [
        "x1=torch.rand((5,5))\n",
        "x2=torch.rand((1,5))\n",
        "\n",
        "z=x1-x2\n",
        "print(z)\n",
        "z=x1**x2\n",
        "print(z)"
      ],
      "metadata": {
        "colab": {
          "base_uri": "https://localhost:8080/"
        },
        "id": "i4CGEuo5ZE5U",
        "outputId": "ba5ce4fa-8412-415f-b8da-477be9fa4c19"
      },
      "execution_count": 83,
      "outputs": [
        {
          "output_type": "stream",
          "name": "stdout",
          "text": [
            "tensor([[ 0.0574, -0.0120,  0.1886,  0.6045, -0.1636],\n",
            "        [ 0.6206,  0.1582,  0.4227, -0.2571, -0.3830],\n",
            "        [ 0.1071,  0.6343, -0.3181, -0.2631, -0.1874],\n",
            "        [ 0.7550,  0.5453,  0.4912,  0.0028,  0.3009],\n",
            "        [ 0.1740, -0.0724,  0.4746,  0.5984, -0.0705]])\n",
            "tensor([[0.8359, 0.6953, 0.8070, 0.9922, 0.6044],\n",
            "        [0.9686, 0.7967, 0.9199, 0.4485, 0.3941],\n",
            "        [0.8587, 0.9718, 0.3475, 0.4398, 0.5842],\n",
            "        [0.9847, 0.9455, 0.9490, 0.6942, 0.9334],\n",
            "        [0.8824, 0.6467, 0.9421, 0.9899, 0.6791]])\n"
          ]
        }
      ]
    },
    {
      "cell_type": "code",
      "source": [
        "x=torch.tensor([1,2,3])"
      ],
      "metadata": {
        "id": "zNh-UsEXgaqB"
      },
      "execution_count": null,
      "outputs": []
    },
    {
      "cell_type": "code",
      "source": [
        "sum_x=torch.sum(x, dim=0)\n",
        "values,indices=torch.max(x, dim=0)\n",
        "z=torch.argmax(x, dim=0)\n",
        "z=torch.argmin(x, dim=0)\n",
        "print(z)\n",
        "print(sum_x)"
      ],
      "metadata": {
        "colab": {
          "base_uri": "https://localhost:8080/"
        },
        "id": "EvA4Z5jYhvaV",
        "outputId": "f7e38846-823d-4106-aa57-4f0006b1c4b1"
      },
      "execution_count": 87,
      "outputs": [
        {
          "output_type": "stream",
          "name": "stdout",
          "text": [
            "tensor(0)\n",
            "tensor(6)\n"
          ]
        }
      ]
    },
    {
      "cell_type": "code",
      "source": [
        "y=torch.tensor([9,8,7])"
      ],
      "metadata": {
        "id": "fSEikyw6h7xx"
      },
      "execution_count": 88,
      "outputs": []
    },
    {
      "cell_type": "code",
      "source": [
        "z=torch.eq(x,y)\n",
        "print(z)"
      ],
      "metadata": {
        "colab": {
          "base_uri": "https://localhost:8080/"
        },
        "id": "j-oD0XIHjHjF",
        "outputId": "05ec12a3-0acf-4f08-e3b2-66406946a146"
      },
      "execution_count": 90,
      "outputs": [
        {
          "output_type": "stream",
          "name": "stdout",
          "text": [
            "tensor([False, False, False])\n"
          ]
        }
      ]
    },
    {
      "cell_type": "code",
      "source": [
        "x=torch.rand((3,5))\n",
        "rows=torch.tensor([1,0])\n",
        "cols=torch.tensor([4,0])\n",
        "print(x)\n",
        "print(x[rows,cols])\n",
        "print(x[rows,cols].shape)"
      ],
      "metadata": {
        "colab": {
          "base_uri": "https://localhost:8080/"
        },
        "id": "UwIEiqwYjK11",
        "outputId": "d4ea5b2d-b22e-4b8b-921d-fca2420cb94a"
      },
      "execution_count": 93,
      "outputs": [
        {
          "output_type": "stream",
          "name": "stdout",
          "text": [
            "tensor([[0.5737, 0.7260, 0.4169, 0.0509, 0.9345],\n",
            "        [0.9939, 0.6658, 0.0477, 0.9780, 0.4401],\n",
            "        [0.8265, 0.2635, 0.5332, 0.4618, 0.5915]])\n",
            "tensor([0.4401, 0.5737])\n",
            "torch.Size([2])\n"
          ]
        }
      ]
    },
    {
      "cell_type": "code",
      "source": [
        "x=torch.arange(10)\n",
        "print(x[(x<2) | (x>8)])\n",
        "print(x[x.remainder(2)==0])"
      ],
      "metadata": {
        "colab": {
          "base_uri": "https://localhost:8080/"
        },
        "id": "Q3ZTGsyHpUio",
        "outputId": "fdef1f86-92b5-4d99-9699-5cbcf6b2fc9e"
      },
      "execution_count": 95,
      "outputs": [
        {
          "output_type": "stream",
          "name": "stdout",
          "text": [
            "tensor([0, 1, 9])\n",
            "tensor([0, 2, 4, 6, 8])\n"
          ]
        }
      ]
    },
    {
      "cell_type": "code",
      "source": [
        "print(torch.where(x>5, x, x*2))\n",
        "print(torch.tensor([0,0,1,2,2,3,4]).unique())\n",
        "print(x.ndimension())\n",
        "print(x.numel())"
      ],
      "metadata": {
        "colab": {
          "base_uri": "https://localhost:8080/"
        },
        "id": "qN55755tp8Mc",
        "outputId": "b86d4bfc-7828-47c7-d93e-8c4830ebbc76"
      },
      "execution_count": 102,
      "outputs": [
        {
          "output_type": "stream",
          "name": "stdout",
          "text": [
            "tensor([ 0,  2,  4,  6,  8, 10,  6,  7,  8,  9])\n",
            "tensor([0, 1, 2, 3, 4])\n",
            "1\n",
            "10\n"
          ]
        }
      ]
    },
    {
      "cell_type": "code",
      "source": [
        "x=torch.arange(9)\n",
        "x_3x3=x.view(3,3)\n",
        "print(x_3x3.shape)"
      ],
      "metadata": {
        "colab": {
          "base_uri": "https://localhost:8080/"
        },
        "id": "2heZ8nhaqLXG",
        "outputId": "6eeb7c74-8bb7-44a0-a99a-5ca75ac64340"
      },
      "execution_count": 105,
      "outputs": [
        {
          "output_type": "stream",
          "name": "stdout",
          "text": [
            "torch.Size([3, 3])\n"
          ]
        }
      ]
    },
    {
      "cell_type": "code",
      "source": [
        "y=x_3x3.t()\n",
        "print(x_3x3,y)"
      ],
      "metadata": {
        "colab": {
          "base_uri": "https://localhost:8080/"
        },
        "id": "TSYZDA_lrGR_",
        "outputId": "60ee7a30-d29d-43df-b700-72bc890ae06f"
      },
      "execution_count": 106,
      "outputs": [
        {
          "output_type": "stream",
          "name": "stdout",
          "text": [
            "tensor([[0, 1, 2],\n",
            "        [3, 4, 5],\n",
            "        [6, 7, 8]]) tensor([[0, 3, 6],\n",
            "        [1, 4, 7],\n",
            "        [2, 5, 8]])\n"
          ]
        }
      ]
    },
    {
      "cell_type": "code",
      "source": [
        " y=y.contiguous().view(9)\n",
        " print(y)"
      ],
      "metadata": {
        "colab": {
          "base_uri": "https://localhost:8080/"
        },
        "id": "0o06TNUHrOcx",
        "outputId": "50cebddc-40e4-457a-cb48-9450ac5f914b"
      },
      "execution_count": 108,
      "outputs": [
        {
          "output_type": "stream",
          "name": "stdout",
          "text": [
            "tensor([0, 3, 6, 1, 4, 7, 2, 5, 8])\n"
          ]
        }
      ]
    },
    {
      "cell_type": "code",
      "source": [
        "z=torch.cat((x,y), dim=0)\n",
        "print(z)"
      ],
      "metadata": {
        "colab": {
          "base_uri": "https://localhost:8080/"
        },
        "id": "SKhdh17PrV7H",
        "outputId": "13415ab5-285b-473e-8bcd-02384bde1375"
      },
      "execution_count": 113,
      "outputs": [
        {
          "output_type": "stream",
          "name": "stdout",
          "text": [
            "tensor([0, 1, 2, 3, 4, 5, 6, 7, 8, 0, 3, 6, 1, 4, 7, 2, 5, 8])\n"
          ]
        }
      ]
    },
    {
      "cell_type": "code",
      "source": [
        "z=torch.rand(2,5)\n",
        "z=z.view(-1)\n",
        "print(z)"
      ],
      "metadata": {
        "colab": {
          "base_uri": "https://localhost:8080/"
        },
        "id": "4IJ37gCys199",
        "outputId": "62e3e0a3-5344-4cee-c65d-677f64a1e02f"
      },
      "execution_count": 115,
      "outputs": [
        {
          "output_type": "stream",
          "name": "stdout",
          "text": [
            "tensor([0.9716, 0.2435, 0.1897, 0.5014, 0.9256, 0.4291, 0.2512, 0.5867, 0.4424,\n",
            "        0.5386])\n"
          ]
        }
      ]
    },
    {
      "cell_type": "code",
      "source": [
        " x=torch.arange(10)\n",
        " print(x)\n",
        " x=x.unsqueeze(0)\n",
        " print(x)\n",
        " print(x.shape)\n",
        " x=torch.arange(10)\n",
        " print(x)\n",
        " x=x.unsqueeze(1)\n",
        " print(x)\n",
        " print(x.shape)"
      ],
      "metadata": {
        "colab": {
          "base_uri": "https://localhost:8080/"
        },
        "id": "QbNg1Cckth6l",
        "outputId": "6e1b3b6c-d57a-4793-ce4d-f8617a62165e"
      },
      "execution_count": 120,
      "outputs": [
        {
          "output_type": "stream",
          "name": "stdout",
          "text": [
            "tensor([0, 1, 2, 3, 4, 5, 6, 7, 8, 9])\n",
            "tensor([[0, 1, 2, 3, 4, 5, 6, 7, 8, 9]])\n",
            "torch.Size([1, 10])\n",
            "tensor([0, 1, 2, 3, 4, 5, 6, 7, 8, 9])\n",
            "tensor([[0],\n",
            "        [1],\n",
            "        [2],\n",
            "        [3],\n",
            "        [4],\n",
            "        [5],\n",
            "        [6],\n",
            "        [7],\n",
            "        [8],\n",
            "        [9]])\n",
            "torch.Size([10, 1])\n"
          ]
        }
      ]
    },
    {
      "cell_type": "code",
      "source": [
        ""
      ],
      "metadata": {
        "id": "WVxG-E4kuRcf"
      },
      "execution_count": null,
      "outputs": []
    }
  ]
}